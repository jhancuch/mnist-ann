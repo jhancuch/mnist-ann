{
 "cells": [
  {
   "cell_type": "markdown",
   "id": "9a4af63e-142d-454c-a324-bfc72d9a5fa9",
   "metadata": {},
   "source": [
    "# Digit Recognition using Artificial Neural Networks"
   ]
  },
  {
   "cell_type": "markdown",
   "id": "fb2e0326-b9c6-4c8a-91c8-323f3c9add45",
   "metadata": {},
   "source": [
    "The purpose of this notebook is to develop artificial neural networks that correctly recognizes hand-drawn digits from 0-9. A successful algorithm could be used to recognize hand written addresses for sorting or correctly identifying forms based upon their name."
   ]
  },
  {
   "cell_type": "code",
   "execution_count": 1,
   "id": "a013eaa1-af48-4914-bbfe-381e19659634",
   "metadata": {},
   "outputs": [],
   "source": [
    "import pandas as pd\n",
    "import numpy as np\n",
    "\n",
    "import matplotlib.pyplot as plt\n",
    "import seaborn as sns\n",
    "\n",
    "#import sklearn\n",
    "#import tensorflow"
   ]
  },
  {
   "cell_type": "markdown",
   "id": "e35214d9-43fb-46b7-b70b-e426b6a5c659",
   "metadata": {},
   "source": [
    "## Ingestion"
   ]
  },
  {
   "cell_type": "code",
   "execution_count": null,
   "id": "b6233745-ba2d-4f7f-be12-87f04105588e",
   "metadata": {},
   "outputs": [],
   "source": []
  }
 ],
 "metadata": {
  "kernelspec": {
   "display_name": "Python 3 (ipykernel)",
   "language": "python",
   "name": "python3"
  },
  "language_info": {
   "codemirror_mode": {
    "name": "ipython",
    "version": 3
   },
   "file_extension": ".py",
   "mimetype": "text/x-python",
   "name": "python",
   "nbconvert_exporter": "python",
   "pygments_lexer": "ipython3",
   "version": "3.9.7"
  }
 },
 "nbformat": 4,
 "nbformat_minor": 5
}
