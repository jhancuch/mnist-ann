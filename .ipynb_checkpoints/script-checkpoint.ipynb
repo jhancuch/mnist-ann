{
 "cells": [
  {
   "cell_type": "markdown",
   "id": "9a4af63e-142d-454c-a324-bfc72d9a5fa9",
   "metadata": {},
   "source": [
    "# Digit Recognition using Artificial Neural Networks"
   ]
  },
  {
   "cell_type": "markdown",
   "id": "fb2e0326-b9c6-4c8a-91c8-323f3c9add45",
   "metadata": {},
   "source": [
    "The purpose of this notebook is to develop artificial neural networks that correctly recognizes hand-drawn digits from 0-9. A successful algorithm could be used to recognize hand written addresses for sorting or correctly identifying forms based upon their name."
   ]
  },
  {
   "cell_type": "code",
   "execution_count": 1,
   "id": "a013eaa1-af48-4914-bbfe-381e19659634",
   "metadata": {},
   "outputs": [],
   "source": [
    "import pandas as pd\n",
    "import numpy as np\n",
    "\n",
    "import matplotlib.pyplot as plt\n",
    "import seaborn as sns\n",
    "\n",
    "#import sklearn\n",
    "#import tensorflow"
   ]
  },
  {
   "cell_type": "markdown",
   "id": "e35214d9-43fb-46b7-b70b-e426b6a5c659",
   "metadata": {},
   "source": [
    "## Ingestion"
   ]
  },
  {
   "cell_type": "code",
   "execution_count": 2,
   "id": "b6233745-ba2d-4f7f-be12-87f04105588e",
   "metadata": {},
   "outputs": [],
   "source": [
    "train = pd.read_csv('https://raw.githubusercontent.com/jhancuch/mnist-ann/main/data/train.csv')"
   ]
  },
  {
   "cell_type": "code",
   "execution_count": 3,
   "id": "5ac394cf-d0b6-4302-b566-247053868a8a",
   "metadata": {},
   "outputs": [],
   "source": [
    "test = pd.read_csv('https://raw.githubusercontent.com/jhancuch/mnist-ann/main/data/test.csv')"
   ]
  },
  {
   "cell_type": "code",
   "execution_count": null,
   "id": "214af167-e010-4688-9ed9-eb8d5df120e8",
   "metadata": {},
   "outputs": [],
   "source": [
    "train.head()"
   ]
  },
  {
   "cell_type": "code",
   "execution_count": null,
   "id": "10b6c4d4-75d3-46d4-8634-85b1a41995a5",
   "metadata": {},
   "outputs": [],
   "source": [
    "test.head()"
   ]
  },
  {
   "cell_type": "code",
   "execution_count": null,
   "id": "f60ea798-df00-4de8-8d7d-c9075a9111c8",
   "metadata": {},
   "outputs": [],
   "source": [
    "len(train)"
   ]
  },
  {
   "cell_type": "code",
   "execution_count": null,
   "id": "8be7c0c9-6027-4205-aed4-61abc893ba32",
   "metadata": {},
   "outputs": [],
   "source": [
    "len(test)"
   ]
  },
  {
   "cell_type": "code",
   "execution_count": null,
   "id": "723a6ac7-4276-4333-a233-fd3afa09c024",
   "metadata": {},
   "outputs": [],
   "source": [
    "train.columns"
   ]
  },
  {
   "cell_type": "code",
   "execution_count": null,
   "id": "1ecc0e2a-50fb-4bcb-b991-64aaba636c9b",
   "metadata": {},
   "outputs": [],
   "source": [
    "test.columns"
   ]
  }
 ],
 "metadata": {
  "kernelspec": {
   "display_name": "Python 3 (ipykernel)",
   "language": "python",
   "name": "python3"
  },
  "language_info": {
   "codemirror_mode": {
    "name": "ipython",
    "version": 3
   },
   "file_extension": ".py",
   "mimetype": "text/x-python",
   "name": "python",
   "nbconvert_exporter": "python",
   "pygments_lexer": "ipython3",
   "version": "3.9.7"
  }
 },
 "nbformat": 4,
 "nbformat_minor": 5
}
